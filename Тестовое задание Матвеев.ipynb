{
 "cells": [
  {
   "cell_type": "markdown",
   "id": "b2a32755",
   "metadata": {},
   "source": [
    "## 1. Загрузка и обзор данных"
   ]
  },
  {
   "cell_type": "code",
   "execution_count": 1,
   "id": "a1c9a4f1",
   "metadata": {},
   "outputs": [],
   "source": [
    "try:\n",
    "    import pandas as pd\n",
    "    import numpy as np\n",
    "    import matplotlib.pyplot as plt\n",
    "    import seaborn as sns\n",
    "except ImportError:\n",
    "\n",
    "    print(\"Ошибка при загрузке одной из библиотек.\")"
   ]
  },
  {
   "cell_type": "code",
   "execution_count": 2,
   "id": "a26a553a",
   "metadata": {},
   "outputs": [],
   "source": [
    "df = pd.read_excel('C:/Users/Matvey Wonder/Desktop/работа/TopfaceMedia/data.xlsx')"
   ]
  },
  {
   "cell_type": "code",
   "execution_count": 3,
   "id": "d576dfb6",
   "metadata": {},
   "outputs": [
    {
     "data": {
      "text/html": [
       "<div>\n",
       "<style scoped>\n",
       "    .dataframe tbody tr th:only-of-type {\n",
       "        vertical-align: middle;\n",
       "    }\n",
       "\n",
       "    .dataframe tbody tr th {\n",
       "        vertical-align: top;\n",
       "    }\n",
       "\n",
       "    .dataframe thead th {\n",
       "        text-align: right;\n",
       "    }\n",
       "</style>\n",
       "<table border=\"1\" class=\"dataframe\">\n",
       "  <thead>\n",
       "    <tr style=\"text-align: right;\">\n",
       "      <th></th>\n",
       "      <th>client_id</th>\n",
       "      <th>sum</th>\n",
       "      <th>status</th>\n",
       "      <th>sale</th>\n",
       "      <th>new/current</th>\n",
       "      <th>Unnamed: 5</th>\n",
       "      <th>document</th>\n",
       "      <th>receiving_date</th>\n",
       "    </tr>\n",
       "  </thead>\n",
       "  <tbody>\n",
       "    <tr>\n",
       "      <th>0</th>\n",
       "      <td>NaN</td>\n",
       "      <td>NaN</td>\n",
       "      <td>Май 2021</td>\n",
       "      <td>NaN</td>\n",
       "      <td>NaN</td>\n",
       "      <td>NaN</td>\n",
       "      <td>NaN</td>\n",
       "      <td>NaN</td>\n",
       "    </tr>\n",
       "    <tr>\n",
       "      <th>1</th>\n",
       "      <td>6.0</td>\n",
       "      <td>11693.7</td>\n",
       "      <td>ВНУТРЕННИЙ</td>\n",
       "      <td>-</td>\n",
       "      <td>-</td>\n",
       "      <td>NaN</td>\n",
       "      <td>-</td>\n",
       "      <td>-</td>\n",
       "    </tr>\n",
       "    <tr>\n",
       "      <th>2</th>\n",
       "      <td>14.0</td>\n",
       "      <td>5452.7</td>\n",
       "      <td>ОПЛАЧЕНО</td>\n",
       "      <td>Петрова</td>\n",
       "      <td>новая</td>\n",
       "      <td>NaN</td>\n",
       "      <td>оригинал</td>\n",
       "      <td>2021-07-26 00:00:00</td>\n",
       "    </tr>\n",
       "    <tr>\n",
       "      <th>3</th>\n",
       "      <td>15.0</td>\n",
       "      <td>13991.7</td>\n",
       "      <td>ОПЛАЧЕНО</td>\n",
       "      <td>Иванов</td>\n",
       "      <td>текущая</td>\n",
       "      <td>NaN</td>\n",
       "      <td>оригинал</td>\n",
       "      <td>2021-06-08 00:00:00</td>\n",
       "    </tr>\n",
       "    <tr>\n",
       "      <th>4</th>\n",
       "      <td>16.0</td>\n",
       "      <td>719.7</td>\n",
       "      <td>ОПЛАЧЕНО</td>\n",
       "      <td>Иванов</td>\n",
       "      <td>текущая</td>\n",
       "      <td>NaN</td>\n",
       "      <td>оригинал</td>\n",
       "      <td>2021-06-08 00:00:00</td>\n",
       "    </tr>\n",
       "    <tr>\n",
       "      <th>5</th>\n",
       "      <td>18.0</td>\n",
       "      <td>4253.7</td>\n",
       "      <td>ОПЛАЧЕНО</td>\n",
       "      <td>Иванов</td>\n",
       "      <td>текущая</td>\n",
       "      <td>NaN</td>\n",
       "      <td>оригинал</td>\n",
       "      <td>2021-07-07 00:00:00</td>\n",
       "    </tr>\n",
       "    <tr>\n",
       "      <th>6</th>\n",
       "      <td>20.0</td>\n",
       "      <td>5796.7</td>\n",
       "      <td>ОПЛАЧЕНО</td>\n",
       "      <td>Кузнецова</td>\n",
       "      <td>текущая</td>\n",
       "      <td>NaN</td>\n",
       "      <td>оригинал</td>\n",
       "      <td>2021-07-15 00:00:00</td>\n",
       "    </tr>\n",
       "    <tr>\n",
       "      <th>7</th>\n",
       "      <td>21.0</td>\n",
       "      <td>3613.7</td>\n",
       "      <td>ОПЛАЧЕНО</td>\n",
       "      <td>Кузнецова</td>\n",
       "      <td>текущая</td>\n",
       "      <td>NaN</td>\n",
       "      <td>оригинал</td>\n",
       "      <td>2021-10-13 00:00:00</td>\n",
       "    </tr>\n",
       "    <tr>\n",
       "      <th>8</th>\n",
       "      <td>23.0</td>\n",
       "      <td>8511.7</td>\n",
       "      <td>ОПЛАЧЕНО</td>\n",
       "      <td>Андреев</td>\n",
       "      <td>текущая</td>\n",
       "      <td>NaN</td>\n",
       "      <td>оригинал</td>\n",
       "      <td>2021-06-08 00:00:00</td>\n",
       "    </tr>\n",
       "    <tr>\n",
       "      <th>9</th>\n",
       "      <td>24.0</td>\n",
       "      <td>16347.7</td>\n",
       "      <td>ОПЛАЧЕНО</td>\n",
       "      <td>Андреев</td>\n",
       "      <td>новая</td>\n",
       "      <td>NaN</td>\n",
       "      <td>оригинал</td>\n",
       "      <td>2021-06-23 00:00:00</td>\n",
       "    </tr>\n",
       "  </tbody>\n",
       "</table>\n",
       "</div>"
      ],
      "text/plain": [
       "   client_id      sum      status       sale new/current  Unnamed: 5  \\\n",
       "0        NaN      NaN    Май 2021        NaN         NaN         NaN   \n",
       "1        6.0  11693.7  ВНУТРЕННИЙ          -           -         NaN   \n",
       "2       14.0   5452.7    ОПЛАЧЕНО    Петрова       новая         NaN   \n",
       "3       15.0  13991.7    ОПЛАЧЕНО     Иванов     текущая         NaN   \n",
       "4       16.0    719.7    ОПЛАЧЕНО     Иванов     текущая         NaN   \n",
       "5       18.0   4253.7    ОПЛАЧЕНО     Иванов     текущая         NaN   \n",
       "6       20.0   5796.7    ОПЛАЧЕНО  Кузнецова     текущая         NaN   \n",
       "7       21.0   3613.7    ОПЛАЧЕНО  Кузнецова     текущая         NaN   \n",
       "8       23.0   8511.7    ОПЛАЧЕНО    Андреев     текущая         NaN   \n",
       "9       24.0  16347.7    ОПЛАЧЕНО    Андреев       новая         NaN   \n",
       "\n",
       "   document       receiving_date  \n",
       "0       NaN                  NaN  \n",
       "1         -                    -  \n",
       "2  оригинал  2021-07-26 00:00:00  \n",
       "3  оригинал  2021-06-08 00:00:00  \n",
       "4  оригинал  2021-06-08 00:00:00  \n",
       "5  оригинал  2021-07-07 00:00:00  \n",
       "6  оригинал  2021-07-15 00:00:00  \n",
       "7  оригинал  2021-10-13 00:00:00  \n",
       "8  оригинал  2021-06-08 00:00:00  \n",
       "9  оригинал  2021-06-23 00:00:00  "
      ]
     },
     "execution_count": 3,
     "metadata": {},
     "output_type": "execute_result"
    }
   ],
   "source": [
    "df.head(10)"
   ]
  },
  {
   "cell_type": "code",
   "execution_count": 4,
   "id": "4a1ac015",
   "metadata": {},
   "outputs": [
    {
     "name": "stdout",
     "output_type": "stream",
     "text": [
      "<class 'pandas.core.frame.DataFrame'>\n",
      "RangeIndex: 730 entries, 0 to 729\n",
      "Data columns (total 8 columns):\n",
      " #   Column          Non-Null Count  Dtype  \n",
      "---  ------          --------------  -----  \n",
      " 0   client_id       724 non-null    float64\n",
      " 1   sum             724 non-null    float64\n",
      " 2   status          730 non-null    object \n",
      " 3   sale            724 non-null    object \n",
      " 4   new/current     724 non-null    object \n",
      " 5   Unnamed: 5      0 non-null      float64\n",
      " 6   document        709 non-null    object \n",
      " 7   receiving_date  607 non-null    object \n",
      "dtypes: float64(3), object(5)\n",
      "memory usage: 45.8+ KB\n"
     ]
    }
   ],
   "source": [
    "df.info()"
   ]
  },
  {
   "cell_type": "code",
   "execution_count": 5,
   "id": "64b3190d",
   "metadata": {},
   "outputs": [
    {
     "data": {
      "text/html": [
       "<style type=\"text/css\">\n",
       "#T_44146_row0_col0, #T_44146_row1_col0, #T_44146_row3_col0, #T_44146_row4_col0 {\n",
       "  background-color: #3d50c3;\n",
       "  color: #f1f1f1;\n",
       "}\n",
       "#T_44146_row2_col0 {\n",
       "  background-color: #3b4cc0;\n",
       "  color: #f1f1f1;\n",
       "}\n",
       "#T_44146_row5_col0 {\n",
       "  background-color: #b40426;\n",
       "  color: #f1f1f1;\n",
       "}\n",
       "#T_44146_row6_col0 {\n",
       "  background-color: #4358cb;\n",
       "  color: #f1f1f1;\n",
       "}\n",
       "#T_44146_row7_col0 {\n",
       "  background-color: #7093f3;\n",
       "  color: #f1f1f1;\n",
       "}\n",
       "</style>\n",
       "<table id=\"T_44146\">\n",
       "  <thead>\n",
       "    <tr>\n",
       "      <th class=\"blank level0\" >&nbsp;</th>\n",
       "      <th id=\"T_44146_level0_col0\" class=\"col_heading level0 col0\" >0</th>\n",
       "    </tr>\n",
       "  </thead>\n",
       "  <tbody>\n",
       "    <tr>\n",
       "      <th id=\"T_44146_level0_row0\" class=\"row_heading level0 row0\" >client_id</th>\n",
       "      <td id=\"T_44146_row0_col0\" class=\"data row0 col0\" >1.000000</td>\n",
       "    </tr>\n",
       "    <tr>\n",
       "      <th id=\"T_44146_level0_row1\" class=\"row_heading level0 row1\" >sum</th>\n",
       "      <td id=\"T_44146_row1_col0\" class=\"data row1 col0\" >1.000000</td>\n",
       "    </tr>\n",
       "    <tr>\n",
       "      <th id=\"T_44146_level0_row2\" class=\"row_heading level0 row2\" >status</th>\n",
       "      <td id=\"T_44146_row2_col0\" class=\"data row2 col0\" >0.000000</td>\n",
       "    </tr>\n",
       "    <tr>\n",
       "      <th id=\"T_44146_level0_row3\" class=\"row_heading level0 row3\" >sale</th>\n",
       "      <td id=\"T_44146_row3_col0\" class=\"data row3 col0\" >1.000000</td>\n",
       "    </tr>\n",
       "    <tr>\n",
       "      <th id=\"T_44146_level0_row4\" class=\"row_heading level0 row4\" >new/current</th>\n",
       "      <td id=\"T_44146_row4_col0\" class=\"data row4 col0\" >1.000000</td>\n",
       "    </tr>\n",
       "    <tr>\n",
       "      <th id=\"T_44146_level0_row5\" class=\"row_heading level0 row5\" >Unnamed: 5</th>\n",
       "      <td id=\"T_44146_row5_col0\" class=\"data row5 col0\" >100.000000</td>\n",
       "    </tr>\n",
       "    <tr>\n",
       "      <th id=\"T_44146_level0_row6\" class=\"row_heading level0 row6\" >document</th>\n",
       "      <td id=\"T_44146_row6_col0\" class=\"data row6 col0\" >3.000000</td>\n",
       "    </tr>\n",
       "    <tr>\n",
       "      <th id=\"T_44146_level0_row7\" class=\"row_heading level0 row7\" >receiving_date</th>\n",
       "      <td id=\"T_44146_row7_col0\" class=\"data row7 col0\" >17.000000</td>\n",
       "    </tr>\n",
       "  </tbody>\n",
       "</table>\n"
      ],
      "text/plain": [
       "<pandas.io.formats.style.Styler at 0x29202c23df0>"
      ]
     },
     "execution_count": 5,
     "metadata": {},
     "output_type": "execute_result"
    }
   ],
   "source": [
    "pd.DataFrame(round(df.isna().mean()*100,)\n",
    "            ).style.background_gradient('coolwarm')"
   ]
  },
  {
   "cell_type": "markdown",
   "id": "11e68e96",
   "metadata": {},
   "source": [
    "Значительное количество пропусков только в колонке с датой получения договора. 17%."
   ]
  },
  {
   "cell_type": "code",
   "execution_count": 6,
   "id": "abff18b1",
   "metadata": {},
   "outputs": [
    {
     "name": "stdout",
     "output_type": "stream",
     "text": [
      "client_id: 212, sum: 504, status: 11, sale: 12, new/current: 3, Unnamed: 5: 0, document: 3, receiving_date: 111, "
     ]
    }
   ],
   "source": [
    "for col in df.columns:\n",
    "    print(f'{col}: {df[col].nunique()}', end=', ')"
   ]
  },
  {
   "cell_type": "markdown",
   "id": "a6425790",
   "metadata": {},
   "source": [
    "Видно, что данные загружены не совсем корректно. Необходимо перенести значение месяца совершения сделки из статуса в осдельную колонку. В таблице присутствуют пропуски. Один столбец полностью состоит из пропусков, его можно удалить. Необходимо привести данные к нужным типам."
   ]
  },
  {
   "cell_type": "markdown",
   "id": "6ac0e003",
   "metadata": {},
   "source": [
    "## 2. Предобработка данных"
   ]
  },
  {
   "cell_type": "code",
   "execution_count": 7,
   "id": "8e79ec25",
   "metadata": {},
   "outputs": [],
   "source": [
    "# Извлекаем строки, содержащие месяцы в столбце \"status\" и сохраняем их в новый столбец \"receiving_month\"\n",
    "df['month_transaction'] = df['status'].str.extract(r'(\\b[А-Яа-я]+\\s\\d{4}\\b)')\n",
    "\n",
    "# Используем метод fillna() с параметром method='ffill' (forward fill)\n",
    "df['month_transaction'] = df['month_transaction'].fillna(method='ffill')\n"
   ]
  },
  {
   "cell_type": "markdown",
   "id": "90ac2711",
   "metadata": {},
   "source": [
    "Переносим месяц из статуса."
   ]
  },
  {
   "cell_type": "code",
   "execution_count": 8,
   "id": "ed852c10",
   "metadata": {},
   "outputs": [],
   "source": [
    "df = df.drop('Unnamed: 5', axis=1)"
   ]
  },
  {
   "cell_type": "markdown",
   "id": "455592f7",
   "metadata": {},
   "source": [
    "Удаляем пустой столбец."
   ]
  },
  {
   "cell_type": "code",
   "execution_count": 9,
   "id": "c2bbe90e",
   "metadata": {},
   "outputs": [],
   "source": [
    "df = df.replace('-', np.nan).replace('NaT', np.nan)"
   ]
  },
  {
   "cell_type": "markdown",
   "id": "8f356178",
   "metadata": {},
   "source": [
    "Прочерк - это тоже пропуск."
   ]
  },
  {
   "cell_type": "code",
   "execution_count": 10,
   "id": "1576c58a",
   "metadata": {},
   "outputs": [
    {
     "data": {
      "text/plain": [
       "0"
      ]
     },
     "execution_count": 10,
     "metadata": {},
     "output_type": "execute_result"
    }
   ],
   "source": [
    "df = df.dropna()\n",
    "df.isna().sum().sum()"
   ]
  },
  {
   "cell_type": "markdown",
   "id": "343adf9d",
   "metadata": {},
   "source": [
    "Поскольку у нас нет возможности заполнить пропуски и они помешают дальнейшему исследованию, их необходимо удалить."
   ]
  },
  {
   "cell_type": "code",
   "execution_count": 11,
   "id": "d91b3e5c",
   "metadata": {},
   "outputs": [],
   "source": [
    "df['client_id'] = df['client_id'].astype(int)\n",
    "\n",
    "df['receiving_date'] = pd.to_datetime(df['receiving_date'])"
   ]
  },
  {
   "cell_type": "markdown",
   "id": "159c21be",
   "metadata": {},
   "source": [
    "Приводим данные у корректным типам."
   ]
  },
  {
   "cell_type": "code",
   "execution_count": 12,
   "id": "05f72b45",
   "metadata": {},
   "outputs": [],
   "source": [
    "df['month_transaction'] = df['month_transaction'].str.replace(' 2021','')\n",
    "\n",
    "# Сопоставляем названия месяцев с числовыми значениями (можно использовать ранее созданный словарь)\n",
    "months_dict = {\n",
    "    \"Январь\": 1,\n",
    "    \"Февраль\": 2,\n",
    "    \"Март\": 3,\n",
    "    \"Апрель\": 4,\n",
    "    \"Май\": 5,\n",
    "    \"Июнь\": 6,\n",
    "    \"Июль\": 7,\n",
    "    \"Август\": 8,\n",
    "    \"Сентябрь\": 9,\n",
    "    \"Октябрь\": 10,\n",
    "    \"Ноябрь\": 11,\n",
    "    \"Декабрь\": 12\n",
    "}\n",
    "\n",
    "# Преобразуем названия месяцев в числовые значения\n",
    "df['month_transaction'] = df['month_transaction'].map(months_dict)"
   ]
  },
  {
   "cell_type": "markdown",
   "id": "eeaf3c39",
   "metadata": {},
   "source": [
    "Для удобства заменим месяц совершения сделки на числа."
   ]
  },
  {
   "cell_type": "code",
   "execution_count": 13,
   "id": "053138b0",
   "metadata": {},
   "outputs": [
    {
     "data": {
      "text/plain": [
       "12"
      ]
     },
     "execution_count": 13,
     "metadata": {},
     "output_type": "execute_result"
    }
   ],
   "source": [
    "df.duplicated().sum()"
   ]
  },
  {
   "cell_type": "markdown",
   "id": "6e397279",
   "metadata": {},
   "source": [
    "В таблице имеются дубликаты."
   ]
  },
  {
   "cell_type": "code",
   "execution_count": 14,
   "id": "c594db97",
   "metadata": {},
   "outputs": [
    {
     "data": {
      "text/plain": [
       "2.02"
      ]
     },
     "execution_count": 14,
     "metadata": {},
     "output_type": "execute_result"
    }
   ],
   "source": [
    "round(df.duplicated().sum() / len(df) * 100, 2)"
   ]
  },
  {
   "cell_type": "markdown",
   "id": "07a67b8b",
   "metadata": {},
   "source": [
    "Общее количество дубликатов составляет 2.02%. Удаляем."
   ]
  },
  {
   "cell_type": "code",
   "execution_count": 15,
   "id": "e305bbe2",
   "metadata": {},
   "outputs": [],
   "source": [
    "df = df.drop_duplicates()"
   ]
  },
  {
   "cell_type": "code",
   "execution_count": 16,
   "id": "475a8f42",
   "metadata": {},
   "outputs": [
    {
     "name": "stdout",
     "output_type": "stream",
     "text": [
      "<class 'pandas.core.frame.DataFrame'>\n",
      "Int64Index: 583 entries, 2 to 729\n",
      "Data columns (total 8 columns):\n",
      " #   Column             Non-Null Count  Dtype         \n",
      "---  ------             --------------  -----         \n",
      " 0   client_id          583 non-null    int32         \n",
      " 1   sum                583 non-null    float64       \n",
      " 2   status             583 non-null    object        \n",
      " 3   sale               583 non-null    object        \n",
      " 4   new/current        583 non-null    object        \n",
      " 5   document           583 non-null    object        \n",
      " 6   receiving_date     583 non-null    datetime64[ns]\n",
      " 7   month_transaction  583 non-null    int64         \n",
      "dtypes: datetime64[ns](1), float64(1), int32(1), int64(1), object(4)\n",
      "memory usage: 38.7+ KB\n"
     ]
    }
   ],
   "source": [
    "df.info()"
   ]
  },
  {
   "cell_type": "markdown",
   "id": "508d9983",
   "metadata": {},
   "source": [
    "После произведенных действий в таблице осталось 583 строки из 724, но теперь с данными можно работать."
   ]
  },
  {
   "cell_type": "markdown",
   "id": "69e9762c",
   "metadata": {},
   "source": [
    "## Вопросы"
   ]
  },
  {
   "cell_type": "markdown",
   "id": "378642d0",
   "metadata": {},
   "source": [
    "### 1) Вычислите общую выручку за июль 2021 по тем сделкам, приход денежных средств которых не просрочен."
   ]
  },
  {
   "cell_type": "code",
   "execution_count": 17,
   "id": "17c08b92",
   "metadata": {},
   "outputs": [
    {
     "data": {
      "text/plain": [
       "729671.1399999997"
      ]
     },
     "execution_count": 17,
     "metadata": {},
     "output_type": "execute_result"
    }
   ],
   "source": [
    "july_sales = df.query(\"'2021-07-01' <= receiving_date <= '2021-07-31' and status != 'ПРОСРОЧЕНО'\")\n",
    "\n",
    "july_sales['sum'].sum()"
   ]
  },
  {
   "cell_type": "markdown",
   "id": "834634cc",
   "metadata": {},
   "source": [
    "Ответ: 729671.1399999997"
   ]
  },
  {
   "cell_type": "markdown",
   "id": "c1c7a7d7",
   "metadata": {},
   "source": [
    "### 2) Как изменялась выручка компании за рассматриваемый период? Проиллюстрируйте графиком."
   ]
  },
  {
   "cell_type": "code",
   "execution_count": 18,
   "id": "5596bbff",
   "metadata": {},
   "outputs": [
    {
     "name": "stdout",
     "output_type": "stream",
     "text": [
      "2021-05-18 00:00:00 2021-11-15 00:00:00\n"
     ]
    }
   ],
   "source": [
    "print(df['receiving_date'].min(), df['receiving_date'].max())"
   ]
  },
  {
   "cell_type": "markdown",
   "id": "b2548389",
   "metadata": {},
   "source": [
    "В датафрейме содержатся данные с середины мая по середину ноября 2021 года."
   ]
  },
  {
   "cell_type": "code",
   "execution_count": 19,
   "id": "84274262",
   "metadata": {},
   "outputs": [],
   "source": [
    "df['receiving_month'] = df['receiving_date'].dt.month\n",
    "total_per_month = df.groupby('receiving_month')['sum'].sum().reset_index()"
   ]
  },
  {
   "cell_type": "code",
   "execution_count": 20,
   "id": "047e162b",
   "metadata": {},
   "outputs": [
    {
     "data": {
      "image/png": "[encoded data removed]",
      "text/plain": [
       "<Figure size 1200x600 with 1 Axes>"
      ]
     },
     "metadata": {},
     "output_type": "display_data"
    }
   ],
   "source": [
    "plt.figure(figsize=(12, 6))\n",
    "ax = plt.gca()\n",
    "\n",
    "plt.plot(total_per_month['receiving_month'], total_per_month['sum'])\n",
    "\n",
    "# Добавляем сетку\n",
    "ax.grid(True, linestyle='--', alpha=0.7)\n",
    "\n",
    "# Добавляем маркеры \n",
    "plt.scatter(total_per_month['receiving_month'], total_per_month['sum'], color='red', marker='o', label='Точки пересечения')\n",
    "\n",
    "# Добавляем значения над точками\n",
    "for i, row in total_per_month.iterrows():\n",
    "    plt.text(row['receiving_month'], row['sum'], f'{row[\"sum\"]:.2f}', ha='center', va='bottom')\n",
    "\n",
    "plt.title('Cумма денежных средств по месчяцам')\n",
    "plt.xlabel('Месяц')\n",
    "plt.ylabel('Cумма')\n",
    "\n",
    "plt.show()"
   ]
  },
  {
   "cell_type": "markdown",
   "id": "4eecc6d3",
   "metadata": {},
   "source": [
    "Ответ: Стоит отметить, что первый и последний месяцы имеют неполные данные, но можно сказать, что сумма средств расла с начала года и достигла пика в августе (860892.56). Далее сумма денежных средств начала медленно уменьшаться к концу года."
   ]
  },
  {
   "cell_type": "markdown",
   "id": "750d9b96",
   "metadata": {},
   "source": [
    "### 3) Кто из менеджеров привлек для компании больше всего денежных средств в сентябре 2021?"
   ]
  },
  {
   "cell_type": "code",
   "execution_count": 21,
   "id": "88dd28d1",
   "metadata": {
    "scrolled": true
   },
   "outputs": [],
   "source": [
    "sept_sales = df.query(\"'2021-09-01' <= receiving_date <= '2021-09-30' and status == 'ОПЛАЧЕНО'\")\n",
    "\n",
    "top_manager = sept_sales.groupby('sale')['sum'].sum().reset_index().sort_values(by='sum', ascending=False)"
   ]
  },
  {
   "cell_type": "code",
   "execution_count": 22,
   "id": "e0b6cc1c",
   "metadata": {},
   "outputs": [
    {
     "data": {
      "image/png": "[encoded data removed]",
      "text/plain": [
       "<Figure size 1400x600 with 1 Axes>"
      ]
     },
     "metadata": {},
     "output_type": "display_data"
    }
   ],
   "source": [
    "sns.set_style(\"ticks\",{'axes.grid' : True})\n",
    "\n",
    "plt.figure(figsize = (14,6))\n",
    "\n",
    "ax = sns.barplot(x='sale', y='sum', data=top_manager)\n",
    "\n",
    "ax.set_xticklabels(ax.get_xticklabels(),rotation = 30)\n",
    "\n",
    "for p in ax.patches:\n",
    "    ax.annotate(f'{p.get_height():.2f}', (p.get_x() + p.get_width() / 2., p.get_height()), ha='center', va='bottom')\n",
    "\n",
    "ax.set_title('Сумма привлеченных денежных средств менеджеров за сентябрь 2021г.')\n",
    "ax.set_xlabel('Менеджер')\n",
    "ax.set_ylabel('Сумма')\n",
    "\n",
    "plt.show()"
   ]
  },
  {
   "cell_type": "markdown",
   "id": "cc3e21ad",
   "metadata": {},
   "source": [
    "Ответ: Больше всего привлеченных средств показал менеджер - Петрова."
   ]
  },
  {
   "cell_type": "markdown",
   "id": "2c1ffc25",
   "metadata": {},
   "source": [
    "### 4) Какой тип сделок (новая/текущая) был преобладающим в октябре 2021?"
   ]
  },
  {
   "cell_type": "code",
   "execution_count": 23,
   "id": "20f9494c",
   "metadata": {},
   "outputs": [],
   "source": [
    "oct_sales = df.query(\"'2021-10-01' <= receiving_date <= '2021-10-31'\")"
   ]
  },
  {
   "cell_type": "code",
   "execution_count": 24,
   "id": "d33646b2",
   "metadata": {},
   "outputs": [
    {
     "data": {
      "text/html": [
       "<div>\n",
       "<style scoped>\n",
       "    .dataframe tbody tr th:only-of-type {\n",
       "        vertical-align: middle;\n",
       "    }\n",
       "\n",
       "    .dataframe tbody tr th {\n",
       "        vertical-align: top;\n",
       "    }\n",
       "\n",
       "    .dataframe thead th {\n",
       "        text-align: right;\n",
       "    }\n",
       "</style>\n",
       "<table border=\"1\" class=\"dataframe\">\n",
       "  <thead>\n",
       "    <tr style=\"text-align: right;\">\n",
       "      <th></th>\n",
       "      <th>new/current</th>\n",
       "      <th>client_id</th>\n",
       "    </tr>\n",
       "  </thead>\n",
       "  <tbody>\n",
       "    <tr>\n",
       "      <th>0</th>\n",
       "      <td>новая</td>\n",
       "      <td>16</td>\n",
       "    </tr>\n",
       "    <tr>\n",
       "      <th>1</th>\n",
       "      <td>текущая</td>\n",
       "      <td>98</td>\n",
       "    </tr>\n",
       "  </tbody>\n",
       "</table>\n",
       "</div>"
      ],
      "text/plain": [
       "  new/current  client_id\n",
       "0       новая         16\n",
       "1     текущая         98"
      ]
     },
     "execution_count": 24,
     "metadata": {},
     "output_type": "execute_result"
    }
   ],
   "source": [
    "type_transaction = oct_sales.groupby('new/current')['client_id'].count().reset_index()\n",
    "type_transaction"
   ]
  },
  {
   "cell_type": "code",
   "execution_count": 25,
   "id": "4b4f2ca5",
   "metadata": {},
   "outputs": [
    {
     "data": {
      "image/png": "[encoded data removed]",
      "text/plain": [
       "<Figure size 1000x500 with 1 Axes>"
      ]
     },
     "metadata": {},
     "output_type": "display_data"
    }
   ],
   "source": [
    "plt.figure(figsize=(10, 5))\n",
    "\n",
    "plt.pie(type_transaction['client_id'], autopct='%1.0f%%')\n",
    "\n",
    "plt.legend(labels = type_transaction['new/current'])\n",
    "\n",
    "plt.show()"
   ]
  },
  {
   "cell_type": "markdown",
   "id": "777028c0",
   "metadata": {},
   "source": [
    "Ответ: Текущие сделки заметно преобладали в октябре."
   ]
  },
  {
   "cell_type": "markdown",
   "id": "168d68ea",
   "metadata": {},
   "source": [
    "### 5) Сколько оригиналов договора по майским сделкам было получено в июне 2021?"
   ]
  },
  {
   "cell_type": "code",
   "execution_count": 26,
   "id": "9c826cb1",
   "metadata": {},
   "outputs": [],
   "source": [
    "june_sales_originals = df.query(\"'2021-06-01' <= receiving_date <= '2021-06-30' and document == 'оригинал'\")"
   ]
  },
  {
   "cell_type": "code",
   "execution_count": 33,
   "id": "8403bad0",
   "metadata": {},
   "outputs": [
    {
     "data": {
      "text/plain": [
       "76"
      ]
     },
     "execution_count": 33,
     "metadata": {},
     "output_type": "execute_result"
    }
   ],
   "source": [
    "june_sales_originals[june_sales_originals['month_transaction']==5]['client_id'].count()"
   ]
  },
  {
   "cell_type": "markdown",
   "id": "9969e1a3",
   "metadata": {},
   "source": [
    "Ответ: 76 договоров по майским сделкам получено в июне."
   ]
  },
  {
   "cell_type": "markdown",
   "id": "0b12a174",
   "metadata": {},
   "source": [
    "## Задание:\n",
    "\n",
    "За каждую заключенную сделку менеджер получает бонус, который рассчитывается следующим образом.\n",
    "\n",
    "1) За новые сделки менеджер получает 7 % от суммы, при условии, что статус оплаты «ОПЛАЧЕНО», а также имеется оригинал подписанного договора с клиентом (в рассматриваемом месяце).\n",
    "\n",
    "2) За текущие сделки менеджер получает 5 % от суммы, если она больше 10 тыс., и 3 % от суммы, если меньше. При этом статус оплаты может быть любым, кроме «ПРОСРОЧЕНО», а также необходимо наличие оригинала подписанного договора с клиентом (в рассматриваемом месяце). Бонусы по сделкам, оригиналы для которых приходят позже рассматриваемого месяца, считаются остатком на следующий период, который выплачивается по мере прихода оригиналов. Вычислите остаток каждого из менеджеров на 01.07.2021."
   ]
  },
  {
   "cell_type": "code",
   "execution_count": 28,
   "id": "bc41fcf4",
   "metadata": {},
   "outputs": [],
   "source": [
    "# Функция для расчета бонусов\n",
    "def calculate_bonus(row):\n",
    "    if row['new/current'] == 'новая' and row['status'] == 'ОПЛАЧЕНО' and row['document'] == 'оригинал':\n",
    "        return row['sum'] * 0.07\n",
    "    elif row['new/current'] == 'текущая' and row['status'] != 'ПРОСРОЧЕНО':\n",
    "        if row['sum'] > 10000:\n",
    "            return row['sum'] * 0.05\n",
    "        else:\n",
    "            return row['sum'] * 0.03\n",
    "    else:\n",
    "        return 0\n",
    "\n",
    "df['bonus'] = df.apply(calculate_bonus, axis=1)"
   ]
  },
  {
   "cell_type": "code",
   "execution_count": 29,
   "id": "76054d29",
   "metadata": {},
   "outputs": [
    {
     "data": {
      "text/html": [
       "<div>\n",
       "<style scoped>\n",
       "    .dataframe tbody tr th:only-of-type {\n",
       "        vertical-align: middle;\n",
       "    }\n",
       "\n",
       "    .dataframe tbody tr th {\n",
       "        vertical-align: top;\n",
       "    }\n",
       "\n",
       "    .dataframe thead th {\n",
       "        text-align: right;\n",
       "    }\n",
       "</style>\n",
       "<table border=\"1\" class=\"dataframe\">\n",
       "  <thead>\n",
       "    <tr style=\"text-align: right;\">\n",
       "      <th></th>\n",
       "      <th>client_id</th>\n",
       "      <th>sum</th>\n",
       "      <th>status</th>\n",
       "      <th>sale</th>\n",
       "      <th>new/current</th>\n",
       "      <th>document</th>\n",
       "      <th>receiving_date</th>\n",
       "      <th>month_transaction</th>\n",
       "      <th>receiving_month</th>\n",
       "      <th>bonus</th>\n",
       "    </tr>\n",
       "  </thead>\n",
       "  <tbody>\n",
       "    <tr>\n",
       "      <th>2</th>\n",
       "      <td>14</td>\n",
       "      <td>5452.7</td>\n",
       "      <td>ОПЛАЧЕНО</td>\n",
       "      <td>Петрова</td>\n",
       "      <td>новая</td>\n",
       "      <td>оригинал</td>\n",
       "      <td>2021-07-26</td>\n",
       "      <td>5</td>\n",
       "      <td>7</td>\n",
       "      <td>381.689</td>\n",
       "    </tr>\n",
       "    <tr>\n",
       "      <th>3</th>\n",
       "      <td>15</td>\n",
       "      <td>13991.7</td>\n",
       "      <td>ОПЛАЧЕНО</td>\n",
       "      <td>Иванов</td>\n",
       "      <td>текущая</td>\n",
       "      <td>оригинал</td>\n",
       "      <td>2021-06-08</td>\n",
       "      <td>5</td>\n",
       "      <td>6</td>\n",
       "      <td>699.585</td>\n",
       "    </tr>\n",
       "    <tr>\n",
       "      <th>4</th>\n",
       "      <td>16</td>\n",
       "      <td>719.7</td>\n",
       "      <td>ОПЛАЧЕНО</td>\n",
       "      <td>Иванов</td>\n",
       "      <td>текущая</td>\n",
       "      <td>оригинал</td>\n",
       "      <td>2021-06-08</td>\n",
       "      <td>5</td>\n",
       "      <td>6</td>\n",
       "      <td>21.591</td>\n",
       "    </tr>\n",
       "    <tr>\n",
       "      <th>5</th>\n",
       "      <td>18</td>\n",
       "      <td>4253.7</td>\n",
       "      <td>ОПЛАЧЕНО</td>\n",
       "      <td>Иванов</td>\n",
       "      <td>текущая</td>\n",
       "      <td>оригинал</td>\n",
       "      <td>2021-07-07</td>\n",
       "      <td>5</td>\n",
       "      <td>7</td>\n",
       "      <td>127.611</td>\n",
       "    </tr>\n",
       "    <tr>\n",
       "      <th>6</th>\n",
       "      <td>20</td>\n",
       "      <td>5796.7</td>\n",
       "      <td>ОПЛАЧЕНО</td>\n",
       "      <td>Кузнецова</td>\n",
       "      <td>текущая</td>\n",
       "      <td>оригинал</td>\n",
       "      <td>2021-07-15</td>\n",
       "      <td>5</td>\n",
       "      <td>7</td>\n",
       "      <td>173.901</td>\n",
       "    </tr>\n",
       "  </tbody>\n",
       "</table>\n",
       "</div>"
      ],
      "text/plain": [
       "   client_id      sum    status       sale new/current  document  \\\n",
       "2         14   5452.7  ОПЛАЧЕНО    Петрова       новая  оригинал   \n",
       "3         15  13991.7  ОПЛАЧЕНО     Иванов     текущая  оригинал   \n",
       "4         16    719.7  ОПЛАЧЕНО     Иванов     текущая  оригинал   \n",
       "5         18   4253.7  ОПЛАЧЕНО     Иванов     текущая  оригинал   \n",
       "6         20   5796.7  ОПЛАЧЕНО  Кузнецова     текущая  оригинал   \n",
       "\n",
       "  receiving_date  month_transaction  receiving_month    bonus  \n",
       "2     2021-07-26                  5                7  381.689  \n",
       "3     2021-06-08                  5                6  699.585  \n",
       "4     2021-06-08                  5                6   21.591  \n",
       "5     2021-07-07                  5                7  127.611  \n",
       "6     2021-07-15                  5                7  173.901  "
      ]
     },
     "execution_count": 29,
     "metadata": {},
     "output_type": "execute_result"
    }
   ],
   "source": [
    "df.head(5)"
   ]
  },
  {
   "cell_type": "code",
   "execution_count": 30,
   "id": "6d22fbf8",
   "metadata": {},
   "outputs": [],
   "source": [
    "remains = df[df['receiving_month'] != df['month_transaction']]\n",
    "remains = remains[remains['month_transaction'] <= 6]\n",
    "remains = remains[remains['receiving_month'] >= 7]\n",
    "\n",
    "#Отсекаем строки, где договор пришел в тот же месяц, когда совершщена сделка, потому что тогда бонусы выплачиваются сразу.\n",
    "#Отсекаем сделки после июня и сделки, где договор получен до июля. "
   ]
  },
  {
   "cell_type": "code",
   "execution_count": 35,
   "id": "5d2f6b10",
   "metadata": {},
   "outputs": [
    {
     "data": {
      "text/html": [
       "<div>\n",
       "<style scoped>\n",
       "    .dataframe tbody tr th:only-of-type {\n",
       "        vertical-align: middle;\n",
       "    }\n",
       "\n",
       "    .dataframe tbody tr th {\n",
       "        vertical-align: top;\n",
       "    }\n",
       "\n",
       "    .dataframe thead th {\n",
       "        text-align: right;\n",
       "    }\n",
       "</style>\n",
       "<table border=\"1\" class=\"dataframe\">\n",
       "  <thead>\n",
       "    <tr style=\"text-align: right;\">\n",
       "      <th></th>\n",
       "      <th>sale</th>\n",
       "      <th>bonus</th>\n",
       "    </tr>\n",
       "  </thead>\n",
       "  <tbody>\n",
       "    <tr>\n",
       "      <th>0</th>\n",
       "      <td>Петрова</td>\n",
       "      <td>10770.7474</td>\n",
       "    </tr>\n",
       "    <tr>\n",
       "      <th>1</th>\n",
       "      <td>Смирнов</td>\n",
       "      <td>6430.2650</td>\n",
       "    </tr>\n",
       "    <tr>\n",
       "      <th>2</th>\n",
       "      <td>Иванов</td>\n",
       "      <td>5991.4520</td>\n",
       "    </tr>\n",
       "    <tr>\n",
       "      <th>3</th>\n",
       "      <td>Селиванов</td>\n",
       "      <td>5238.8540</td>\n",
       "    </tr>\n",
       "    <tr>\n",
       "      <th>4</th>\n",
       "      <td>Кузнецова</td>\n",
       "      <td>4496.9501</td>\n",
       "    </tr>\n",
       "    <tr>\n",
       "      <th>5</th>\n",
       "      <td>Андреев</td>\n",
       "      <td>3855.9077</td>\n",
       "    </tr>\n",
       "    <tr>\n",
       "      <th>6</th>\n",
       "      <td>Филимонова</td>\n",
       "      <td>2317.9579</td>\n",
       "    </tr>\n",
       "    <tr>\n",
       "      <th>7</th>\n",
       "      <td>Васильев</td>\n",
       "      <td>953.8770</td>\n",
       "    </tr>\n",
       "    <tr>\n",
       "      <th>8</th>\n",
       "      <td>Соколов</td>\n",
       "      <td>269.2110</td>\n",
       "    </tr>\n",
       "  </tbody>\n",
       "</table>\n",
       "</div>"
      ],
      "text/plain": [
       "         sale       bonus\n",
       "0     Петрова  10770.7474\n",
       "1     Смирнов   6430.2650\n",
       "2      Иванов   5991.4520\n",
       "3   Селиванов   5238.8540\n",
       "4   Кузнецова   4496.9501\n",
       "5     Андреев   3855.9077\n",
       "6  Филимонова   2317.9579\n",
       "7    Васильев    953.8770\n",
       "8     Соколов    269.2110"
      ]
     },
     "execution_count": 35,
     "metadata": {},
     "output_type": "execute_result"
    }
   ],
   "source": [
    "remains = remains.groupby('sale')['bonus'].sum().sort_values(ascending=False).reset_index()\n",
    "remains"
   ]
  },
  {
   "cell_type": "code",
   "execution_count": null,
   "id": "a0142b4c",
   "metadata": {},
   "outputs": [],
   "source": []
  }
 ],
 "metadata": {
  "kernelspec": {
   "display_name": "Python 3 (ipykernel)",
   "language": "python",
   "name": "python3"
  },
  "language_info": {
   "codemirror_mode": {
    "name": "ipython",
    "version": 3
   },
   "file_extension": ".py",
   "mimetype": "text/x-python",
   "name": "python",
   "nbconvert_exporter": "python",
   "pygments_lexer": "ipython3",
   "version": "3.9.13"
  }
 },
 "nbformat": 4,
 "nbformat_minor": 5
}
